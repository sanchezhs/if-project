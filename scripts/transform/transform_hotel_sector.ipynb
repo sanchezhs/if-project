{
 "cells": [
  {
   "cell_type": "code",
   "execution_count": 85,
   "metadata": {},
   "outputs": [],
   "source": [
    "import pandas as pd\n",
    "import os"
   ]
  },
  {
   "cell_type": "code",
   "execution_count": null,
   "metadata": {},
   "outputs": [],
   "source": [
    "DATA_PATH = os.path.join(\"..\", \"..\", \"data\", \"sector_hotelero\")"
   ]
  },
  {
   "cell_type": "code",
   "execution_count": 86,
   "metadata": {},
   "outputs": [],
   "source": [
    "estancia_media = pd.read_csv(os.path.join(DATA_PATH, 'estancia_media.csv'), sep=';')\n",
    "grado_ocupacion = pd.read_csv(os.path.join(DATA_PATH, 'grado_ocupacion.csv'), sep=';')\n",
    "indice_precios_hoteleros = pd.read_csv(os.path.join(DATA_PATH, 'indice_precios_hoteleros.csv'), sep=';')\n",
    "pernoctaciones = pd.read_csv(os.path.join(DATA_PATH, 'pernoctaciones.csv'), sep=';')\n",
    "tarifa_media_habitacion_ocupada = pd.read_csv(os.path.join(DATA_PATH, 'tarifa_media_habitacion_ocupada.csv'), sep=';')"
   ]
  },
  {
   "cell_type": "code",
   "execution_count": 87,
   "metadata": {},
   "outputs": [],
   "source": [
    "def format_df(df, name):\n",
    "    df = df[[\"PERIODO\", \"VALOR\"]].copy()\n",
    "    df.columns = [\"periodo\", name]\n",
    "    df[\"periodo\"] = pd.to_datetime(df[\"periodo\"], format=\"%YM%m\").dt.strftime(\"%Y-%m-%d\")\n",
    "    df[name] = df[name].astype(str).str.replace(',', '.').replace([\"..\", \"-\", \"\"], None)\n",
    "    df[name] = pd.to_numeric(df[name], errors=\"coerce\")\n",
    "\n",
    "    return df"
   ]
  },
  {
   "cell_type": "code",
   "execution_count": 88,
   "metadata": {},
   "outputs": [],
   "source": [
    "estancia_media = format_df(estancia_media, \"estancia_media\")\n",
    "grado_ocupacion = format_df(grado_ocupacion, \"grado_ocupacion\")\n",
    "indice_precios_hoteleros = format_df(indice_precios_hoteleros, \"indice_precios_hoteleros\")\n",
    "\n",
    "pernoctaciones[\"VALOR\"] = pernoctaciones[\"VALOR\"].astype(str).str.replace('.', '')\n",
    "pernoctaciones = format_df(pernoctaciones, \"pernoctaciones\")\n",
    "\n",
    "tarifa_media_habitacion_ocupada = format_df(tarifa_media_habitacion_ocupada, \"tarifa_media_habitacion_ocupada\")"
   ]
  },
  {
   "cell_type": "code",
   "execution_count": 89,
   "metadata": {},
   "outputs": [],
   "source": [
    "df_final = estancia_media\n",
    "df_final = df_final.merge(grado_ocupacion, on=\"periodo\", how=\"outer\", suffixes=(\"\", \"_grado\"))\n",
    "df_final = df_final.merge(indice_precios_hoteleros, on=\"periodo\", how=\"outer\", suffixes=(\"\", \"_indice\"))\n",
    "df_final = df_final.merge(pernoctaciones, on=\"periodo\", how=\"outer\", suffixes=(\"\", \"_pernoctaciones\"))\n",
    "df_final = df_final.merge(tarifa_media_habitacion_ocupada, on=\"periodo\", how=\"outer\", suffixes=(\"\", \"_tarifa\"))\n",
    "\n",
    "df_final.columns = [\"periodo\", \"estancia_media\", \"grado_ocupacion\", \"indice_precios\", \"pernoctaciones\", \"tarifa_media\"]\n",
    "\n",
    "df_final = df_final.sort_values(by=\"periodo\", ascending=False).reset_index(drop=True)"
   ]
  },
  {
   "cell_type": "code",
   "execution_count": 90,
   "metadata": {},
   "outputs": [],
   "source": [
    "df_final\n",
    "\n",
    "df_final.to_csv(os.path.join(DATA_PATH, 'sector_hotelero.csv'), index=False)"
   ]
  }
 ],
 "metadata": {
  "kernelspec": {
   "display_name": "venv",
   "language": "python",
   "name": "python3"
  },
  "language_info": {
   "codemirror_mode": {
    "name": "ipython",
    "version": 3
   },
   "file_extension": ".py",
   "mimetype": "text/x-python",
   "name": "python",
   "nbconvert_exporter": "python",
   "pygments_lexer": "ipython3",
   "version": "3.13.2"
  }
 },
 "nbformat": 4,
 "nbformat_minor": 2
}
