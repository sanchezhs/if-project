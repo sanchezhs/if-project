{
 "cells": [
  {
   "cell_type": "code",
   "execution_count": 1,
   "metadata": {},
   "outputs": [],
   "source": [
    "import pandas as pd\n",
    "import os"
   ]
  },
  {
   "cell_type": "code",
   "execution_count": 5,
   "metadata": {},
   "outputs": [],
   "source": [
    "DATA_PATH = os.path.join(\"..\", \"..\", \"data\", \"gasto_pais_residencia\")"
   ]
  },
  {
   "cell_type": "code",
   "execution_count": 6,
   "metadata": {},
   "outputs": [
    {
     "data": {
      "text/html": [
       "<div>\n",
       "<style scoped>\n",
       "    .dataframe tbody tr th:only-of-type {\n",
       "        vertical-align: middle;\n",
       "    }\n",
       "\n",
       "    .dataframe tbody tr th {\n",
       "        vertical-align: top;\n",
       "    }\n",
       "\n",
       "    .dataframe thead th {\n",
       "        text-align: right;\n",
       "    }\n",
       "</style>\n",
       "<table border=\"1\" class=\"dataframe\">\n",
       "  <thead>\n",
       "    <tr style=\"text-align: right;\">\n",
       "      <th></th>\n",
       "      <th>Pais de residencia</th>\n",
       "      <th>Tipo de dato</th>\n",
       "      <th>Gastos y duracion media de los viajes</th>\n",
       "      <th>Periodo</th>\n",
       "      <th>Total</th>\n",
       "    </tr>\n",
       "  </thead>\n",
       "  <tbody>\n",
       "    <tr>\n",
       "      <th>0</th>\n",
       "      <td>Total</td>\n",
       "      <td>Dato base</td>\n",
       "      <td>Gasto medio por persona</td>\n",
       "      <td>2025M01</td>\n",
       "      <td>1.408</td>\n",
       "    </tr>\n",
       "    <tr>\n",
       "      <th>1</th>\n",
       "      <td>Total</td>\n",
       "      <td>Dato base</td>\n",
       "      <td>Gasto medio por persona</td>\n",
       "      <td>2024M12</td>\n",
       "      <td>1.442</td>\n",
       "    </tr>\n",
       "    <tr>\n",
       "      <th>2</th>\n",
       "      <td>Total</td>\n",
       "      <td>Dato base</td>\n",
       "      <td>Gasto medio por persona</td>\n",
       "      <td>2024M11</td>\n",
       "      <td>1.359</td>\n",
       "    </tr>\n",
       "    <tr>\n",
       "      <th>3</th>\n",
       "      <td>Total</td>\n",
       "      <td>Dato base</td>\n",
       "      <td>Gasto medio por persona</td>\n",
       "      <td>2024M10</td>\n",
       "      <td>1.328</td>\n",
       "    </tr>\n",
       "    <tr>\n",
       "      <th>4</th>\n",
       "      <td>Total</td>\n",
       "      <td>Dato base</td>\n",
       "      <td>Gasto medio por persona</td>\n",
       "      <td>2024M09</td>\n",
       "      <td>1.314</td>\n",
       "    </tr>\n",
       "  </tbody>\n",
       "</table>\n",
       "</div>"
      ],
      "text/plain": [
       "  Pais de residencia Tipo de dato Gastos y duracion media de los viajes  \\\n",
       "0              Total    Dato base               Gasto medio por persona   \n",
       "1              Total    Dato base               Gasto medio por persona   \n",
       "2              Total    Dato base               Gasto medio por persona   \n",
       "3              Total    Dato base               Gasto medio por persona   \n",
       "4              Total    Dato base               Gasto medio por persona   \n",
       "\n",
       "   Periodo  Total  \n",
       "0  2025M01  1.408  \n",
       "1  2024M12  1.442  \n",
       "2  2024M11  1.359  \n",
       "3  2024M10  1.328  \n",
       "4  2024M09  1.314  "
      ]
     },
     "execution_count": 6,
     "metadata": {},
     "output_type": "execute_result"
    }
   ],
   "source": [
    "df = pd.read_csv(os.path.join(DATA_PATH, \"gasto_pais_residencia.csv\"), sep=\";\")\n",
    "df.head()"
   ]
  },
  {
   "cell_type": "code",
   "execution_count": 3,
   "metadata": {},
   "outputs": [],
   "source": [
    "df.columns = [\"pais_residencia\", \"tipo_dato\", \"gastos\", \"periodo\", \"total\"]\n",
    "df.drop(columns=[\"tipo_dato\"], inplace=True)\n",
    "df[\"periodo\"] = pd.to_datetime(df[\"periodo\"], format=\"%YM%m\").dt.strftime(\"%Y-%m-%d\")\n",
    "df = df[df[\"pais_residencia\"] != \"Total\"]\n",
    "df[\"total\"] = df[\"total\"].str.replace(\".\", \"\").str.replace(\",\", \".\").astype(float)"
   ]
  },
  {
   "cell_type": "code",
   "execution_count": 4,
   "metadata": {},
   "outputs": [
    {
     "data": {
      "text/html": [
       "<div>\n",
       "<style scoped>\n",
       "    .dataframe tbody tr th:only-of-type {\n",
       "        vertical-align: middle;\n",
       "    }\n",
       "\n",
       "    .dataframe tbody tr th {\n",
       "        vertical-align: top;\n",
       "    }\n",
       "\n",
       "    .dataframe thead th {\n",
       "        text-align: right;\n",
       "    }\n",
       "</style>\n",
       "<table border=\"1\" class=\"dataframe\">\n",
       "  <thead>\n",
       "    <tr style=\"text-align: right;\">\n",
       "      <th></th>\n",
       "      <th>pais_residencia</th>\n",
       "      <th>gastos</th>\n",
       "      <th>periodo</th>\n",
       "      <th>total</th>\n",
       "    </tr>\n",
       "  </thead>\n",
       "  <tbody>\n",
       "    <tr>\n",
       "      <th>336</th>\n",
       "      <td>Reino Unido</td>\n",
       "      <td>Gasto medio por persona</td>\n",
       "      <td>2025-01-01</td>\n",
       "      <td>1270.0</td>\n",
       "    </tr>\n",
       "    <tr>\n",
       "      <th>337</th>\n",
       "      <td>Reino Unido</td>\n",
       "      <td>Gasto medio por persona</td>\n",
       "      <td>2024-12-01</td>\n",
       "      <td>1219.0</td>\n",
       "    </tr>\n",
       "    <tr>\n",
       "      <th>338</th>\n",
       "      <td>Reino Unido</td>\n",
       "      <td>Gasto medio por persona</td>\n",
       "      <td>2024-11-01</td>\n",
       "      <td>1156.0</td>\n",
       "    </tr>\n",
       "    <tr>\n",
       "      <th>339</th>\n",
       "      <td>Reino Unido</td>\n",
       "      <td>Gasto medio por persona</td>\n",
       "      <td>2024-10-01</td>\n",
       "      <td>1188.0</td>\n",
       "    </tr>\n",
       "    <tr>\n",
       "      <th>340</th>\n",
       "      <td>Reino Unido</td>\n",
       "      <td>Gasto medio por persona</td>\n",
       "      <td>2024-09-01</td>\n",
       "      <td>1200.0</td>\n",
       "    </tr>\n",
       "  </tbody>\n",
       "</table>\n",
       "</div>"
      ],
      "text/plain": [
       "    pais_residencia                   gastos     periodo   total\n",
       "336     Reino Unido  Gasto medio por persona  2025-01-01  1270.0\n",
       "337     Reino Unido  Gasto medio por persona  2024-12-01  1219.0\n",
       "338     Reino Unido  Gasto medio por persona  2024-11-01  1156.0\n",
       "339     Reino Unido  Gasto medio por persona  2024-10-01  1188.0\n",
       "340     Reino Unido  Gasto medio por persona  2024-09-01  1200.0"
      ]
     },
     "execution_count": 4,
     "metadata": {},
     "output_type": "execute_result"
    }
   ],
   "source": [
    "df.head()"
   ]
  },
  {
   "cell_type": "code",
   "execution_count": 5,
   "metadata": {},
   "outputs": [],
   "source": [
    "df_pivoted = df.pivot_table(\n",
    "    index=[\"periodo\", \"pais_residencia\"], columns=\"gastos\", values=\"total\", dropna=False\n",
    ").reset_index()\n",
    "df_pivoted.columns.name = None"
   ]
  },
  {
   "cell_type": "code",
   "execution_count": 8,
   "metadata": {},
   "outputs": [
    {
     "data": {
      "text/plain": [
       "array(['Alemania', 'Francia', 'Italia', 'Paises Nordicos', 'Reino Unido',\n",
       "       'Otros'], dtype=object)"
      ]
     },
     "execution_count": 8,
     "metadata": {},
     "output_type": "execute_result"
    }
   ],
   "source": [
    "df_pivoted.columns = [\n",
    "    \"periodo\",\n",
    "    \"pais_residencia\",\n",
    "    \"gasto_medio_diario\",\n",
    "    \"gasto_medio_persona\",\n",
    "    \"duracion_media_viaje\",\n",
    "]\n",
    "df_pivoted[\"pais_residencia\"] = df_pivoted[\"pais_residencia\"].str.replace(\n",
    "    \"Resto del Mundo\", \"Otros\"\n",
    ")\n",
    "\n",
    "df_pivoted"
   ]
  },
  {
   "cell_type": "code",
   "execution_count": 7,
   "metadata": {},
   "outputs": [],
   "source": [
    "df_pivoted.to_csv(\n",
    "    os.path.join(DATA_PATH, \"gasto_pais_residencia_cleaned.csv\"), index=False\n",
    ")"
   ]
  }
 ],
 "metadata": {
  "kernelspec": {
   "display_name": "venv",
   "language": "python",
   "name": "python3"
  },
  "language_info": {
   "codemirror_mode": {
    "name": "ipython",
    "version": 3
   },
   "file_extension": ".py",
   "mimetype": "text/x-python",
   "name": "python",
   "nbconvert_exporter": "python",
   "pygments_lexer": "ipython3",
   "version": "3.13.2"
  }
 },
 "nbformat": 4,
 "nbformat_minor": 2
}
