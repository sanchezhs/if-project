{
 "cells": [
  {
   "cell_type": "code",
   "execution_count": 84,
   "metadata": {},
   "outputs": [],
   "source": [
    "import pandas as pd\n",
    "import os"
   ]
  },
  {
   "cell_type": "code",
   "execution_count": null,
   "metadata": {},
   "outputs": [],
   "source": [
    "DATA_PATH = os.path.join(\"..\", \"..\", \"data\", \"ocupacion_hotelera\")"
   ]
  },
  {
   "cell_type": "code",
   "execution_count": 85,
   "metadata": {},
   "outputs": [],
   "source": [
    "def clean_sheet(df_iph):\n",
    "    df_iph.columns = [\"comunidad_autonoma\", \"borrar\", \"tasa_media_ponderada\"]\n",
    "    df_iph = df_iph.drop(columns=[\"borrar\"])\n",
    "    df_iph = df_iph.dropna()\n",
    "\n",
    "    exclude = [\"TOTAL\", \"Cinco\", \"Cuatro\", \"Tres\", \"Dos\", \"Una\", \"Tres y dos\"]\n",
    "    df_iph = df_iph[~df_iph[\"comunidad_autonoma\"].isin(exclude)]\n",
    "\n",
    "    return df_iph\n",
    "\n",
    "\n",
    "def remove_chars(s):\n",
    "    return \"\".join([i for i in s if i.isdigit()])"
   ]
  },
  {
   "cell_type": "code",
   "execution_count": 86,
   "metadata": {},
   "outputs": [
    {
     "name": "stdout",
     "output_type": "stream",
     "text": [
      "['2024 Provisional', '2023 ', '2022', '2021 ', '2020', '2019 ', '2018', '2017', '2016', '2015', '2014', '2013', '2012', '2011', '2010']\n",
      "2024\n",
      "2023\n",
      "2022\n",
      "2021\n",
      "2020\n",
      "2019\n",
      "2018\n",
      "2017\n",
      "2016\n",
      "2015\n",
      "2014\n",
      "2013\n",
      "2012\n",
      "2011\n",
      "2010\n"
     ]
    }
   ],
   "source": [
    "xls = pd.ExcelFile(os.path.join(DATA_PATH, \"iph_anual.xlsx\"))\n",
    "\n",
    "# show sheet names\n",
    "print(xls.sheet_names)\n",
    "\n",
    "final_df = pd.DataFrame()\n",
    "for sheet in xls.sheet_names:\n",
    "    df_iph = pd.read_excel(xls, sheet_name=sheet)\n",
    "    df_iph = clean_sheet(df_iph)\n",
    "    year = remove_chars(sheet.strip())\n",
    "    print(year)\n",
    "    df_iph[\"year\"] = year\n",
    "    final_df = pd.concat([final_df, df_iph], ignore_index=True)\n"
   ]
  },
  {
   "cell_type": "code",
   "execution_count": 87,
   "metadata": {},
   "outputs": [
    {
     "data": {
      "text/html": [
       "<div>\n",
       "<style scoped>\n",
       "    .dataframe tbody tr th:only-of-type {\n",
       "        vertical-align: middle;\n",
       "    }\n",
       "\n",
       "    .dataframe tbody tr th {\n",
       "        vertical-align: top;\n",
       "    }\n",
       "\n",
       "    .dataframe thead th {\n",
       "        text-align: right;\n",
       "    }\n",
       "</style>\n",
       "<table border=\"1\" class=\"dataframe\">\n",
       "  <thead>\n",
       "    <tr style=\"text-align: right;\">\n",
       "      <th></th>\n",
       "      <th>comunidad_autonoma</th>\n",
       "      <th>tasa_media_ponderada</th>\n",
       "      <th>year</th>\n",
       "    </tr>\n",
       "  </thead>\n",
       "  <tbody>\n",
       "    <tr>\n",
       "      <th>0</th>\n",
       "      <td>Andalucía</td>\n",
       "      <td>6.601327</td>\n",
       "      <td>2024</td>\n",
       "    </tr>\n",
       "    <tr>\n",
       "      <th>1</th>\n",
       "      <td>Aragón</td>\n",
       "      <td>4.357527</td>\n",
       "      <td>2024</td>\n",
       "    </tr>\n",
       "    <tr>\n",
       "      <th>2</th>\n",
       "      <td>Asturias, Principado de</td>\n",
       "      <td>5.352234</td>\n",
       "      <td>2024</td>\n",
       "    </tr>\n",
       "    <tr>\n",
       "      <th>3</th>\n",
       "      <td>Balears, Illes</td>\n",
       "      <td>7.595283</td>\n",
       "      <td>2024</td>\n",
       "    </tr>\n",
       "    <tr>\n",
       "      <th>4</th>\n",
       "      <td>Canarias</td>\n",
       "      <td>6.534795</td>\n",
       "      <td>2024</td>\n",
       "    </tr>\n",
       "    <tr>\n",
       "      <th>...</th>\n",
       "      <td>...</td>\n",
       "      <td>...</td>\n",
       "      <td>...</td>\n",
       "    </tr>\n",
       "    <tr>\n",
       "      <th>95</th>\n",
       "      <td>Andalucía</td>\n",
       "      <td>1.510909</td>\n",
       "      <td>2019</td>\n",
       "    </tr>\n",
       "    <tr>\n",
       "      <th>96</th>\n",
       "      <td>Aragón</td>\n",
       "      <td>1.881038</td>\n",
       "      <td>2019</td>\n",
       "    </tr>\n",
       "    <tr>\n",
       "      <th>97</th>\n",
       "      <td>Asturias, Principado de</td>\n",
       "      <td>0.144361</td>\n",
       "      <td>2019</td>\n",
       "    </tr>\n",
       "    <tr>\n",
       "      <th>98</th>\n",
       "      <td>Balears, Illes</td>\n",
       "      <td>3.253409</td>\n",
       "      <td>2019</td>\n",
       "    </tr>\n",
       "    <tr>\n",
       "      <th>99</th>\n",
       "      <td>Canarias</td>\n",
       "      <td>1.008565</td>\n",
       "      <td>2019</td>\n",
       "    </tr>\n",
       "  </tbody>\n",
       "</table>\n",
       "<p>100 rows × 3 columns</p>\n",
       "</div>"
      ],
      "text/plain": [
       "         comunidad_autonoma tasa_media_ponderada  year\n",
       "0                 Andalucía             6.601327  2024\n",
       "1                    Aragón             4.357527  2024\n",
       "2   Asturias, Principado de             5.352234  2024\n",
       "3            Balears, Illes             7.595283  2024\n",
       "4                  Canarias             6.534795  2024\n",
       "..                      ...                  ...   ...\n",
       "95                Andalucía             1.510909  2019\n",
       "96                   Aragón             1.881038  2019\n",
       "97  Asturias, Principado de             0.144361  2019\n",
       "98           Balears, Illes             3.253409  2019\n",
       "99                 Canarias             1.008565  2019\n",
       "\n",
       "[100 rows x 3 columns]"
      ]
     },
     "execution_count": 87,
     "metadata": {},
     "output_type": "execute_result"
    }
   ],
   "source": [
    "final_df.head(n=100)"
   ]
  },
  {
   "cell_type": "code",
   "execution_count": 91,
   "metadata": {},
   "outputs": [],
   "source": [
    "# Write to csv\n",
    "final_df.to_csv(os.join.path(DATA_PATH, \"iph.csv\"), index=False)"
   ]
  }
 ],
 "metadata": {
  "kernelspec": {
   "display_name": "venv",
   "language": "python",
   "name": "python3"
  },
  "language_info": {
   "codemirror_mode": {
    "name": "ipython",
    "version": 3
   },
   "file_extension": ".py",
   "mimetype": "text/x-python",
   "name": "python",
   "nbconvert_exporter": "python",
   "pygments_lexer": "ipython3",
   "version": "3.13.2"
  }
 },
 "nbformat": 4,
 "nbformat_minor": 2
}
