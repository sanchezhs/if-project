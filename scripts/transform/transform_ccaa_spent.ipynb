{
 "cells": [
  {
   "cell_type": "code",
   "execution_count": 8,
   "metadata": {},
   "outputs": [],
   "source": [
    "import pandas as pd\n",
    "import os\n",
    "import re"
   ]
  },
  {
   "cell_type": "code",
   "execution_count": 11,
   "metadata": {},
   "outputs": [],
   "source": [
    "DATA_PATH = os.path.join(\"..\", \"..\", \"data\", \"gasto_ccaa_destino\")"
   ]
  },
  {
   "cell_type": "code",
   "execution_count": null,
   "metadata": {},
   "outputs": [],
   "source": [
    "df = pd.read_csv(os.path.join(DATA_PATH, 'gasto_ccaa_destino.csv'), sep=';')"
   ]
  },
  {
   "cell_type": "code",
   "execution_count": 3,
   "metadata": {},
   "outputs": [
    {
     "data": {
      "text/html": [
       "<div>\n",
       "<style scoped>\n",
       "    .dataframe tbody tr th:only-of-type {\n",
       "        vertical-align: middle;\n",
       "    }\n",
       "\n",
       "    .dataframe tbody tr th {\n",
       "        vertical-align: top;\n",
       "    }\n",
       "\n",
       "    .dataframe thead th {\n",
       "        text-align: right;\n",
       "    }\n",
       "</style>\n",
       "<table border=\"1\" class=\"dataframe\">\n",
       "  <thead>\n",
       "    <tr style=\"text-align: right;\">\n",
       "      <th></th>\n",
       "      <th>Comunidades  autonomas</th>\n",
       "      <th>Gastos y Duracion media de los viajes</th>\n",
       "      <th>Tipo de dato</th>\n",
       "      <th>Periodo</th>\n",
       "      <th>Total</th>\n",
       "    </tr>\n",
       "  </thead>\n",
       "  <tbody>\n",
       "    <tr>\n",
       "      <th>0</th>\n",
       "      <td>Total</td>\n",
       "      <td>Gasto medio por persona</td>\n",
       "      <td>Dato base</td>\n",
       "      <td>2025M01</td>\n",
       "      <td>1.408</td>\n",
       "    </tr>\n",
       "    <tr>\n",
       "      <th>1</th>\n",
       "      <td>Total</td>\n",
       "      <td>Gasto medio por persona</td>\n",
       "      <td>Dato base</td>\n",
       "      <td>2024M12</td>\n",
       "      <td>1.442</td>\n",
       "    </tr>\n",
       "    <tr>\n",
       "      <th>2</th>\n",
       "      <td>Total</td>\n",
       "      <td>Gasto medio por persona</td>\n",
       "      <td>Dato base</td>\n",
       "      <td>2024M11</td>\n",
       "      <td>1.359</td>\n",
       "    </tr>\n",
       "    <tr>\n",
       "      <th>3</th>\n",
       "      <td>Total</td>\n",
       "      <td>Gasto medio por persona</td>\n",
       "      <td>Dato base</td>\n",
       "      <td>2024M10</td>\n",
       "      <td>1.328</td>\n",
       "    </tr>\n",
       "    <tr>\n",
       "      <th>4</th>\n",
       "      <td>Total</td>\n",
       "      <td>Gasto medio por persona</td>\n",
       "      <td>Dato base</td>\n",
       "      <td>2024M09</td>\n",
       "      <td>1.314</td>\n",
       "    </tr>\n",
       "  </tbody>\n",
       "</table>\n",
       "</div>"
      ],
      "text/plain": [
       "  Comunidades  autonomas Gastos y Duracion media de los viajes Tipo de dato  \\\n",
       "0                  Total               Gasto medio por persona    Dato base   \n",
       "1                  Total               Gasto medio por persona    Dato base   \n",
       "2                  Total               Gasto medio por persona    Dato base   \n",
       "3                  Total               Gasto medio por persona    Dato base   \n",
       "4                  Total               Gasto medio por persona    Dato base   \n",
       "\n",
       "   Periodo  Total  \n",
       "0  2025M01  1.408  \n",
       "1  2024M12  1.442  \n",
       "2  2024M11  1.359  \n",
       "3  2024M10  1.328  \n",
       "4  2024M09  1.314  "
      ]
     },
     "execution_count": 3,
     "metadata": {},
     "output_type": "execute_result"
    }
   ],
   "source": [
    "df.head()"
   ]
  },
  {
   "cell_type": "code",
   "execution_count": 4,
   "metadata": {},
   "outputs": [],
   "source": [
    "df.drop(['Tipo de dato'], axis=1, inplace=True)"
   ]
  },
  {
   "cell_type": "code",
   "execution_count": 5,
   "metadata": {},
   "outputs": [],
   "source": [
    "# Convert total to numeric\n",
    "df['Total'] = df['Total'].str.replace('.', '').str.replace(',', '.').astype(float)"
   ]
  },
  {
   "cell_type": "code",
   "execution_count": 6,
   "metadata": {},
   "outputs": [
    {
     "data": {
      "text/html": [
       "<div>\n",
       "<style scoped>\n",
       "    .dataframe tbody tr th:only-of-type {\n",
       "        vertical-align: middle;\n",
       "    }\n",
       "\n",
       "    .dataframe tbody tr th {\n",
       "        vertical-align: top;\n",
       "    }\n",
       "\n",
       "    .dataframe thead th {\n",
       "        text-align: right;\n",
       "    }\n",
       "</style>\n",
       "<table border=\"1\" class=\"dataframe\">\n",
       "  <thead>\n",
       "    <tr style=\"text-align: right;\">\n",
       "      <th></th>\n",
       "      <th>Comunidades  autonomas</th>\n",
       "      <th>Gastos y Duracion media de los viajes</th>\n",
       "      <th>Periodo</th>\n",
       "      <th>Total</th>\n",
       "    </tr>\n",
       "  </thead>\n",
       "  <tbody>\n",
       "    <tr>\n",
       "      <th>0</th>\n",
       "      <td>Total</td>\n",
       "      <td>Gasto medio por persona</td>\n",
       "      <td>2025M01</td>\n",
       "      <td>1408.0</td>\n",
       "    </tr>\n",
       "    <tr>\n",
       "      <th>1</th>\n",
       "      <td>Total</td>\n",
       "      <td>Gasto medio por persona</td>\n",
       "      <td>2024M12</td>\n",
       "      <td>1442.0</td>\n",
       "    </tr>\n",
       "    <tr>\n",
       "      <th>2</th>\n",
       "      <td>Total</td>\n",
       "      <td>Gasto medio por persona</td>\n",
       "      <td>2024M11</td>\n",
       "      <td>1359.0</td>\n",
       "    </tr>\n",
       "    <tr>\n",
       "      <th>3</th>\n",
       "      <td>Total</td>\n",
       "      <td>Gasto medio por persona</td>\n",
       "      <td>2024M10</td>\n",
       "      <td>1328.0</td>\n",
       "    </tr>\n",
       "    <tr>\n",
       "      <th>4</th>\n",
       "      <td>Total</td>\n",
       "      <td>Gasto medio por persona</td>\n",
       "      <td>2024M09</td>\n",
       "      <td>1314.0</td>\n",
       "    </tr>\n",
       "  </tbody>\n",
       "</table>\n",
       "</div>"
      ],
      "text/plain": [
       "  Comunidades  autonomas Gastos y Duracion media de los viajes  Periodo  \\\n",
       "0                  Total               Gasto medio por persona  2025M01   \n",
       "1                  Total               Gasto medio por persona  2024M12   \n",
       "2                  Total               Gasto medio por persona  2024M11   \n",
       "3                  Total               Gasto medio por persona  2024M10   \n",
       "4                  Total               Gasto medio por persona  2024M09   \n",
       "\n",
       "    Total  \n",
       "0  1408.0  \n",
       "1  1442.0  \n",
       "2  1359.0  \n",
       "3  1328.0  \n",
       "4  1314.0  "
      ]
     },
     "execution_count": 6,
     "metadata": {},
     "output_type": "execute_result"
    }
   ],
   "source": [
    "df.head()"
   ]
  },
  {
   "cell_type": "code",
   "execution_count": 7,
   "metadata": {},
   "outputs": [],
   "source": [
    "df.columns = [\n",
    "    \"comunidad_autonoma\",\n",
    "    \"gastos\",\n",
    "    \"periodo\",\n",
    "    \"total\"\n",
    "]"
   ]
  },
  {
   "cell_type": "code",
   "execution_count": 8,
   "metadata": {},
   "outputs": [],
   "source": [
    "df_pivoted = df.pivot_table(index=[ \"comunidad_autonoma\", \"periodo\"],\n",
    "                                        columns=\"gastos\",\n",
    "                                        values=\"total\").reset_index()\n"
   ]
  },
  {
   "cell_type": "code",
   "execution_count": 9,
   "metadata": {},
   "outputs": [],
   "source": [
    "# Remove numbers from comunidad_autonoma rows\n",
    "regex = re.compile(r'\\d+ ')\n",
    "df_pivoted['comunidad_autonoma'] = df_pivoted['comunidad_autonoma'].apply(lambda x: regex.sub('', x))\n",
    "df_pivoted.columns.name = None\n"
   ]
  },
  {
   "cell_type": "code",
   "execution_count": 10,
   "metadata": {},
   "outputs": [
    {
     "data": {
      "text/plain": [
       "Index(['comunidad_autonoma', 'periodo', 'Duracion media de los viajes',\n",
       "       'Gasto medio diario por persona', 'Gasto medio por persona'],\n",
       "      dtype='object')"
      ]
     },
     "execution_count": 10,
     "metadata": {},
     "output_type": "execute_result"
    }
   ],
   "source": [
    "df_pivoted.columns"
   ]
  },
  {
   "cell_type": "code",
   "execution_count": 11,
   "metadata": {},
   "outputs": [],
   "source": [
    "df_pivoted.columns = [\n",
    "    \"comunidad_autonoma\",\n",
    "    \"periodo\",\n",
    "    \"duracion_media_viaje\",\n",
    "    \"gasto_medio_diario\",\n",
    "    \"gasto_medio_persona\",\n",
    "]"
   ]
  },
  {
   "cell_type": "code",
   "execution_count": 12,
   "metadata": {},
   "outputs": [],
   "source": [
    "df_pivoted[\"periodo\"] = pd.to_datetime(df_pivoted[\"periodo\"], format=\"%YM%m\").dt.strftime(\"%Y-%m-%d\")"
   ]
  },
  {
   "cell_type": "code",
   "execution_count": 13,
   "metadata": {},
   "outputs": [],
   "source": [
    "df_pivoted = df_pivoted[df_pivoted[\"comunidad_autonoma\"] != \"Total\"]\n",
    "df_pivoted[\"comunidad_autonoma\"] = df_pivoted[\"comunidad_autonoma\"].str.replace(\"Otras Comunidades Autonomas\", \"Otros\")"
   ]
  },
  {
   "cell_type": "code",
   "execution_count": 14,
   "metadata": {},
   "outputs": [
    {
     "data": {
      "text/html": [
       "<div>\n",
       "<style scoped>\n",
       "    .dataframe tbody tr th:only-of-type {\n",
       "        vertical-align: middle;\n",
       "    }\n",
       "\n",
       "    .dataframe tbody tr th {\n",
       "        vertical-align: top;\n",
       "    }\n",
       "\n",
       "    .dataframe thead th {\n",
       "        text-align: right;\n",
       "    }\n",
       "</style>\n",
       "<table border=\"1\" class=\"dataframe\">\n",
       "  <thead>\n",
       "    <tr style=\"text-align: right;\">\n",
       "      <th></th>\n",
       "      <th>comunidad_autonoma</th>\n",
       "      <th>periodo</th>\n",
       "      <th>duracion_media_viaje</th>\n",
       "      <th>gasto_medio_diario</th>\n",
       "      <th>gasto_medio_persona</th>\n",
       "    </tr>\n",
       "  </thead>\n",
       "  <tbody>\n",
       "    <tr>\n",
       "      <th>779</th>\n",
       "      <td>Otros</td>\n",
       "      <td>2024-09-01</td>\n",
       "      <td>6.92</td>\n",
       "      <td>171.0</td>\n",
       "      <td>1187.0</td>\n",
       "    </tr>\n",
       "    <tr>\n",
       "      <th>780</th>\n",
       "      <td>Otros</td>\n",
       "      <td>2024-10-01</td>\n",
       "      <td>6.90</td>\n",
       "      <td>168.0</td>\n",
       "      <td>1161.0</td>\n",
       "    </tr>\n",
       "    <tr>\n",
       "      <th>781</th>\n",
       "      <td>Otros</td>\n",
       "      <td>2024-11-01</td>\n",
       "      <td>7.26</td>\n",
       "      <td>144.0</td>\n",
       "      <td>1046.0</td>\n",
       "    </tr>\n",
       "    <tr>\n",
       "      <th>782</th>\n",
       "      <td>Otros</td>\n",
       "      <td>2024-12-01</td>\n",
       "      <td>10.36</td>\n",
       "      <td>124.0</td>\n",
       "      <td>1286.0</td>\n",
       "    </tr>\n",
       "    <tr>\n",
       "      <th>783</th>\n",
       "      <td>Otros</td>\n",
       "      <td>2025-01-01</td>\n",
       "      <td>9.53</td>\n",
       "      <td>122.0</td>\n",
       "      <td>1160.0</td>\n",
       "    </tr>\n",
       "  </tbody>\n",
       "</table>\n",
       "</div>"
      ],
      "text/plain": [
       "    comunidad_autonoma     periodo  duracion_media_viaje  gasto_medio_diario  \\\n",
       "779              Otros  2024-09-01                  6.92               171.0   \n",
       "780              Otros  2024-10-01                  6.90               168.0   \n",
       "781              Otros  2024-11-01                  7.26               144.0   \n",
       "782              Otros  2024-12-01                 10.36               124.0   \n",
       "783              Otros  2025-01-01                  9.53               122.0   \n",
       "\n",
       "     gasto_medio_persona  \n",
       "779               1187.0  \n",
       "780               1161.0  \n",
       "781               1046.0  \n",
       "782               1286.0  \n",
       "783               1160.0  "
      ]
     },
     "execution_count": 14,
     "metadata": {},
     "output_type": "execute_result"
    }
   ],
   "source": [
    "df_pivoted.tail()"
   ]
  },
  {
   "cell_type": "code",
   "execution_count": 7,
   "metadata": {},
   "outputs": [
    {
     "ename": "NameError",
     "evalue": "name 'df_pivoted' is not defined",
     "output_type": "error",
     "traceback": [
      "\u001b[31m---------------------------------------------------------------------------\u001b[39m",
      "\u001b[31mNameError\u001b[39m                                 Traceback (most recent call last)",
      "\u001b[36mCell\u001b[39m\u001b[36m \u001b[39m\u001b[32mIn[7]\u001b[39m\u001b[32m, line 2\u001b[39m\n\u001b[32m      1\u001b[39m \u001b[38;5;66;03m# Save to csv\u001b[39;00m\n\u001b[32m----> \u001b[39m\u001b[32m2\u001b[39m \u001b[43mdf_pivoted\u001b[49m.to_csv(\u001b[33m'\u001b[39m\u001b[33m../../data/gasto_ccaa_destino/asdgasto_ccaa_destino_cleaned.csv\u001b[39m\u001b[33m'\u001b[39m, index=\u001b[38;5;28;01mFalse\u001b[39;00m)\n",
      "\u001b[31mNameError\u001b[39m: name 'df_pivoted' is not defined"
     ]
    }
   ],
   "source": [
    "# Save to csv\n",
    "df_pivoted.to_csv(os.path.join(DATA_PATH, 'gasto_ccaa_destino_cleaned.csv'), index=False)"
   ]
  }
 ],
 "metadata": {
  "kernelspec": {
   "display_name": "venv",
   "language": "python",
   "name": "python3"
  },
  "language_info": {
   "codemirror_mode": {
    "name": "ipython",
    "version": 3
   },
   "file_extension": ".py",
   "mimetype": "text/x-python",
   "name": "python",
   "nbconvert_exporter": "python",
   "pygments_lexer": "ipython3",
   "version": "3.13.2"
  }
 },
 "nbformat": 4,
 "nbformat_minor": 2
}
