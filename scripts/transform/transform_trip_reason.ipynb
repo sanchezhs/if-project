{
 "cells": [
  {
   "cell_type": "code",
   "execution_count": 1,
   "metadata": {},
   "outputs": [],
   "source": [
    "import pandas as pd\n",
    "import os"
   ]
  },
  {
   "cell_type": "code",
   "execution_count": 2,
   "metadata": {},
   "outputs": [],
   "source": [
    "DATA_PATH = os.path.join(\"..\", \"..\", \"data\", \"gasto_motivo_viaje\")"
   ]
  },
  {
   "cell_type": "code",
   "execution_count": 3,
   "metadata": {},
   "outputs": [],
   "source": [
    "df = pd.read_csv(os.path.join(DATA_PATH, 'gasto_motivo_viaje.csv'), sep=';')"
   ]
  },
  {
   "cell_type": "code",
   "execution_count": 164,
   "metadata": {},
   "outputs": [],
   "source": [
    "df.drop([\"Tipo de dato\"], axis=1, inplace=True)"
   ]
  },
  {
   "cell_type": "code",
   "execution_count": 165,
   "metadata": {},
   "outputs": [
    {
     "data": {
      "text/html": [
       "<div>\n",
       "<style scoped>\n",
       "    .dataframe tbody tr th:only-of-type {\n",
       "        vertical-align: middle;\n",
       "    }\n",
       "\n",
       "    .dataframe tbody tr th {\n",
       "        vertical-align: top;\n",
       "    }\n",
       "\n",
       "    .dataframe thead th {\n",
       "        text-align: right;\n",
       "    }\n",
       "</style>\n",
       "<table border=\"1\" class=\"dataframe\">\n",
       "  <thead>\n",
       "    <tr style=\"text-align: right;\">\n",
       "      <th></th>\n",
       "      <th>Motivo del viaje</th>\n",
       "      <th>Gastos y duracion media de los viajes</th>\n",
       "      <th>Periodo</th>\n",
       "      <th>Total</th>\n",
       "    </tr>\n",
       "  </thead>\n",
       "  <tbody>\n",
       "    <tr>\n",
       "      <th>0</th>\n",
       "      <td>Negocio, motivos profesionales</td>\n",
       "      <td>Gasto medio por persona</td>\n",
       "      <td>2024</td>\n",
       "      <td>1381.0</td>\n",
       "    </tr>\n",
       "    <tr>\n",
       "      <th>1</th>\n",
       "      <td>Negocio, motivos profesionales</td>\n",
       "      <td>Gasto medio por persona</td>\n",
       "      <td>2023</td>\n",
       "      <td>1337.0</td>\n",
       "    </tr>\n",
       "    <tr>\n",
       "      <th>2</th>\n",
       "      <td>Negocio, motivos profesionales</td>\n",
       "      <td>Gasto medio por persona</td>\n",
       "      <td>2022</td>\n",
       "      <td>1240.0</td>\n",
       "    </tr>\n",
       "    <tr>\n",
       "      <th>3</th>\n",
       "      <td>Negocio, motivos profesionales</td>\n",
       "      <td>Gasto medio por persona</td>\n",
       "      <td>2021</td>\n",
       "      <td>1076.0</td>\n",
       "    </tr>\n",
       "    <tr>\n",
       "      <th>4</th>\n",
       "      <td>Negocio, motivos profesionales</td>\n",
       "      <td>Gasto medio por persona</td>\n",
       "      <td>2020</td>\n",
       "      <td>1038.0</td>\n",
       "    </tr>\n",
       "  </tbody>\n",
       "</table>\n",
       "</div>"
      ],
      "text/plain": [
       "                 Motivo del viaje Gastos y duracion media de los viajes  \\\n",
       "0  Negocio, motivos profesionales               Gasto medio por persona   \n",
       "1  Negocio, motivos profesionales               Gasto medio por persona   \n",
       "2  Negocio, motivos profesionales               Gasto medio por persona   \n",
       "3  Negocio, motivos profesionales               Gasto medio por persona   \n",
       "4  Negocio, motivos profesionales               Gasto medio por persona   \n",
       "\n",
       "   Periodo   Total  \n",
       "0     2024  1381.0  \n",
       "1     2023  1337.0  \n",
       "2     2022  1240.0  \n",
       "3     2021  1076.0  \n",
       "4     2020  1038.0  "
      ]
     },
     "execution_count": 165,
     "metadata": {},
     "output_type": "execute_result"
    }
   ],
   "source": [
    "df.head()"
   ]
  },
  {
   "cell_type": "code",
   "execution_count": 166,
   "metadata": {},
   "outputs": [
    {
     "data": {
      "text/plain": [
       "array(['Gasto medio por persona', 'Gasto medio diario por persona',\n",
       "       'duracion media de los viajes'], dtype=object)"
      ]
     },
     "execution_count": 166,
     "metadata": {},
     "output_type": "execute_result"
    }
   ],
   "source": [
    "df.head()\n",
    "\n",
    "df.columns = [\"motivo_viaje\", \"gastos\", \"periodo\", \"total\"]\n",
    "df[\"total\"] = pd.to_numeric(df[\"total\"], errors=\"coerce\")\n",
    "df[\"gastos\"].unique()"
   ]
  },
  {
   "cell_type": "code",
   "execution_count": 167,
   "metadata": {},
   "outputs": [],
   "source": [
    "df_pivoted = df.pivot_table(index=[\"periodo\", \"motivo_viaje\"],\n",
    "                                        columns=\"gastos\",\n",
    "                                        values=\"total\",\n",
    "                                        dropna=False).reset_index()\n",
    "df_pivoted.columns.name = None\n",
    "# df_pivoted.columns.name = None\n",
    "# df_pivoted.columns = [\n",
    "#     \"periodo\",\n",
    "#     \"motivo_viaje\",\n",
    "#     \"gasto_medio_diario\",\n",
    "#     \"gasto_medio_persona\",\n",
    "#     \"duracion_media_viaje\",\n",
    "# ]"
   ]
  },
  {
   "cell_type": "code",
   "execution_count": 168,
   "metadata": {},
   "outputs": [],
   "source": [
    "df_pivoted.head()\n",
    "\n",
    "df_pivoted.columns = [\n",
    "    \"periodo\",\n",
    "    \"motivo_viaje\",\n",
    "    \"gasto_medio_persona\",\n",
    "    \"gasto_medio_diario\",\n",
    "    \"duracion_media_viaje\",\n",
    "]"
   ]
  },
  {
   "cell_type": "code",
   "execution_count": 169,
   "metadata": {},
   "outputs": [],
   "source": [
    "df_pivoted.to_csv(os.path.join(DATA_PATH, \"gasto_motivo_viaje_cleaned.csv\"), index=False)"
   ]
  }
 ],
 "metadata": {
  "kernelspec": {
   "display_name": "venv",
   "language": "python",
   "name": "python3"
  },
  "language_info": {
   "codemirror_mode": {
    "name": "ipython",
    "version": 3
   },
   "file_extension": ".py",
   "mimetype": "text/x-python",
   "name": "python",
   "nbconvert_exporter": "python",
   "pygments_lexer": "ipython3",
   "version": "3.13.2"
  }
 },
 "nbformat": 4,
 "nbformat_minor": 2
}
