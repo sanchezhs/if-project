{
 "cells": [
  {
   "cell_type": "code",
   "execution_count": 39,
   "metadata": {},
   "outputs": [],
   "source": [
    "import pandas as pd\n",
    "import os"
   ]
  },
  {
   "cell_type": "code",
   "execution_count": null,
   "metadata": {},
   "outputs": [],
   "source": [
    "DATA_PATH = os.path.join(\"..\", \"..\", \"data\", \"ocupacion_hotelera\")"
   ]
  },
  {
   "cell_type": "code",
   "execution_count": 40,
   "metadata": {},
   "outputs": [],
   "source": [
    "df_hotels = pd.read_csv(os.path.join(DATA_PATH, \"2942_clean.csv\"))\n",
    "df_iph = pd.read_csv(os.path.join(DATA_PATH, \"iph.csv\"))"
   ]
  },
  {
   "cell_type": "code",
   "execution_count": 41,
   "metadata": {},
   "outputs": [
    {
     "name": "stderr",
     "output_type": "stream",
     "text": [
      "/tmp/ipykernel_8576/1922213256.py:8: FutureWarning: Setting an item of incompatible dtype is deprecated and will raise an error in a future version of pandas. Value '2024-12-01' has dtype incompatible with int64, please explicitly cast to a compatible dtype first.\n",
      "  df_iph.loc[df_iph['periodo'] == year, 'periodo'] = str(year) + '-12-01'\n"
     ]
    }
   ],
   "source": [
    "df_iph.columns = [\"comunidad_autonoma\", \"iph\", \"periodo\"]\n",
    "\n",
    "\n",
    "years = df_iph.periodo.unique()\n",
    "\n",
    "# Substitute 20xx with 20yy-12-01\n",
    "for year in years:\n",
    "    df_iph.loc[df_iph[\"periodo\"] == year, \"periodo\"] = str(year) + \"-12-01\"\n",
    "\n",
    "# Substitute accents\n",
    "df_iph[\"comunidad_autonoma\"] = df_iph[\"comunidad_autonoma\"].str.replace(\"á\", \"a\")\n",
    "df_iph[\"comunidad_autonoma\"] = df_iph[\"comunidad_autonoma\"].str.replace(\"é\", \"e\")\n",
    "df_iph[\"comunidad_autonoma\"] = df_iph[\"comunidad_autonoma\"].str.replace(\"í\", \"i\")\n",
    "df_iph[\"comunidad_autonoma\"] = df_iph[\"comunidad_autonoma\"].str.replace(\"ó\", \"o\")\n",
    "df_iph[\"comunidad_autonoma\"] = df_iph[\"comunidad_autonoma\"].str.replace(\"ú\", \"u\")"
   ]
  },
  {
   "cell_type": "code",
   "execution_count": 42,
   "metadata": {},
   "outputs": [],
   "source": [
    "# Merge\n",
    "df = pd.merge(df_hotels, df_iph, how=\"left\", on=[\"periodo\", \"comunidad_autonoma\"])"
   ]
  },
  {
   "cell_type": "code",
   "execution_count": 43,
   "metadata": {},
   "outputs": [],
   "source": [
    "# Save\n",
    "df.to_csv(os.join.path(DATA_PATH, \"merged.csv\"), index=False)"
   ]
  }
 ],
 "metadata": {
  "kernelspec": {
   "display_name": "venv",
   "language": "python",
   "name": "python3"
  },
  "language_info": {
   "codemirror_mode": {
    "name": "ipython",
    "version": 3
   },
   "file_extension": ".py",
   "mimetype": "text/x-python",
   "name": "python",
   "nbconvert_exporter": "python",
   "pygments_lexer": "ipython3",
   "version": "3.13.2"
  }
 },
 "nbformat": 4,
 "nbformat_minor": 2
}
